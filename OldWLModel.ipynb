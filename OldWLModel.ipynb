{
 "cells": [
  {
   "cell_type": "code",
   "execution_count": 1,
   "metadata": {},
   "outputs": [
    {
     "name": "stdout",
     "output_type": "stream",
     "text": [
      "Requirement already satisfied: sklearn in c:\\users\\gamer\\appdata\\local\\programs\\python\\python310\\lib\\site-packages (0.0.post1)\n"
     ]
    }
   ],
   "source": [
    "import sys\n",
    "!{sys.executable} -m pip install sklearn\n"
   ]
  },
  {
   "cell_type": "code",
   "execution_count": 2,
   "metadata": {},
   "outputs": [
    {
     "ename": "ModuleNotFoundError",
     "evalue": "No module named 'sklearn'",
     "output_type": "error",
     "traceback": [
      "\u001b[1;31m---------------------------------------------------------------------------\u001b[0m",
      "\u001b[1;31mModuleNotFoundError\u001b[0m                       Traceback (most recent call last)",
      "Cell \u001b[1;32mIn[2], line 1\u001b[0m\n\u001b[1;32m----> 1\u001b[0m \u001b[39mimport\u001b[39;00m \u001b[39msklearn\u001b[39;00m\n\u001b[0;32m      2\u001b[0m \u001b[39mfrom\u001b[39;00m \u001b[39msklearn\u001b[39;00m\u001b[39m.\u001b[39;00m\u001b[39mneighbors\u001b[39;00m \u001b[39mimport\u001b[39;00m KNeighborsRegressor\n\u001b[0;32m      3\u001b[0m \u001b[39mimport\u001b[39;00m \u001b[39mnumpy\u001b[39;00m \u001b[39mas\u001b[39;00m \u001b[39mnp\u001b[39;00m\n",
      "\u001b[1;31mModuleNotFoundError\u001b[0m: No module named 'sklearn'"
     ]
    }
   ],
   "source": [
    "import sklearn\n",
    "from sklearn.neighbors import KNeighborsRegressor\n",
    "import numpy as np\n",
    "knn = KNeighborsRegressor(n_neighbors=3)"
   ]
  },
  {
   "cell_type": "code",
   "execution_count": null,
   "metadata": {},
   "outputs": [],
   "source": [
    "\n",
    "#function that numericalizes the strings and converts them into lists with 27 elements so all x's are the same size\n",
    "def numericalize(word):\n",
    "    #key for numericalizing letters\n",
    "    letkey = [\"\",\"a\",\"b\",\"c\",\"d\",\"e\",\"f\",\"g\",\"h\",\"i\",\"j\",\"k\",\"l\",\"m\",\"n\",\"o\",\"p\",\"q\",\"r\",\"s\",\"t\",\"u\",\"v\",\"w\",\"x\",\"y\",\"z\"]\n",
    "    #creates an empty list of size 27\n",
    "    replacement = [0]*27\n",
    "    #for every letter in the alphabet, if the letter is in the word, change the index of that spot of the replacement to the number assigned to the letter in the key\n",
    "    for key in letkey:\n",
    "        if key in word:\n",
    "            replacement[letkey.index(key)] = letkey.index(key)\n",
    "        else:\n",
    "            replacement[letkey.index(key)] = 0\n",
    "    #old code\n",
    "    \"\"\"for let in word:\n",
    "        replacement.append(letkey.index(let))\"\"\"\n",
    "\n",
    "    return replacement\n",
    "\n",
    "with open(\"completed.txt\") as dataset:\n",
    "    lines = dataset.readlines()\n",
    "xtrain = []\n",
    "data = []\n",
    "#split the data to fomrat it\n",
    "for line in lines:\n",
    "    data.append(line.split(\"-\"))\n",
    "#xtrain is everything but the last 3 ytrain is the opposite\n",
    "xtrain = [x[:-3] for x in data] \n",
    "ytrain = [x[-3:] for x in data]\n",
    "#the first index is the guess number, which cannot be numericalized as its not in the key, so we just turn it into a list of size 27 with only one index being the guess number and everything else empty\n",
    "for x in range(len(xtrain)):\n",
    "    xtrain[x][0] = [int(xtrain[x][0])]+[0]*26\n",
    "\n",
    "#goes through all the indexes of xtrain\n",
    "for x in range(len(xtrain)):\n",
    "    #goes through every piece of data\n",
    "    for y in range(12):\n",
    "        #checks if the data is None and turns it into a list of 27 Nones\n",
    "        if xtrain[x][y] == 'None':\n",
    "            xtrain[x][y] = [0]*27\n",
    "        #checks if its a str and numericalizes it\n",
    "        if type(xtrain[x][y]) == str:\n",
    "            xtrain[x][y] = numericalize(xtrain[x][y])\n",
    "        \"\"\"if y != 0:\n",
    "            print(xtrain[x][y])\n",
    "            xtrain[x][0] += xtrain[x][y]\n",
    "        xtrain[x] = xtrain[x][0]\"\"\"\n",
    "#runs through the y's and numericalizes it\n",
    "for x in range(len(ytrain)):\n",
    "        ytrain[x][0] = numericalize(ytrain[x][0])   \n",
    "        ytrain[x][2] = ytrain[x][2].replace(\"\\n\",\"\")\n",
    "        ytrain[x][0] += [ytrain[x][1]]\n",
    "        ytrain[x][0] += [ytrain[x][2]]\n",
    "        ytrain[x] = ytrain[x][0]\n",
    "\n",
    "\n"
   ]
  },
  {
   "cell_type": "code",
   "execution_count": null,
   "metadata": {},
   "outputs": [
    {
     "name": "stdout",
     "output_type": "stream",
     "text": [
      "[[[1]\n",
      "  [2]\n",
      "  [3]]\n",
      "\n",
      " [[4]\n",
      "  [5]\n",
      "  [6]]]\n",
      "(2, 3, 1)\n",
      "[[1 2 3]\n",
      " [4 5 6]]\n"
     ]
    }
   ],
   "source": [
    "x = [[[1],[2],[3]],[[4],[5],[6]]]\n",
    "npx = np.array(x)\n",
    "print(npx)\n",
    "print(npx.shape)\n",
    "npx = npx.reshape(2,3)\n",
    "print(npx)"
   ]
  },
  {
   "cell_type": "code",
   "execution_count": null,
   "metadata": {},
   "outputs": [
    {
     "name": "stdout",
     "output_type": "stream",
     "text": [
      "208\n",
      "(208, 324)\n",
      "[ 2  0  0  0  0  0  0  0  0  0  0  0  0  0  0  0  0  0  0  0  0  0  0  0\n",
      "  0  0  0  0  1  0  0  0  5  0  0  0  9  0  0  0  0  0  0  0  0 18  0 20\n",
      "  0  0  0  0  0  0  0  0  0  0  0  0  0  0  0  0  0  0  0  0  0  0  0  0\n",
      "  0  0  0  0  0  0  0  0  0  0  0  0  0  0  0  0  0  0  0  0  0  0  0  0\n",
      "  0  0  0  0  0  0  0  0  0  0  0  0  0  0  0  0  0  0  0  0  0  0  0  0\n",
      "  0  0  0  0  0  0  0  0  0  0  0  0  0  0  0  0  0  0  0  0  0  0  0  0\n",
      "  0  0  0  0  0  0  0  0  0  0  0  0  0  0  0  0  0  0  0  0  0  0  0  0\n",
      "  0  0  0  0  0  0  0  0  0  0  0  0  0  0  0  0  0  0  0  0  0  0  0  0\n",
      "  0  0  0  0  0  0  9  0  0  0  0  0  0  0  0  0  0  0  0  0  0  0  0  0\n",
      "  0  0  0  0  0  0  0  0  0  0  0  0  0  0  0  0  0  0 18  0  0  0  0  0\n",
      "  0  0  0  0  1  0  0  0  0  0  0  0  0  0  0  0  0  0  0  0  0  0  0  0\n",
      "  0  0  0  0  0  0  0  0  0  0  0  0  0  0  0  0  0  0  0  0  0  0  0  0\n",
      "  0  0  0  0  0  0  0  0  0  0  0  0  0  0  0  0  0  0  0  0  0  0  0  0\n",
      "  0  0  0  0  0  0  0  0  0  0  0  0]\n"
     ]
    }
   ],
   "source": [
    "#print(xtrain[3])\n",
    "npxtrain = np.array(xtrain)\n",
    "#print(npxtrain.shape)\n",
    "npxtrain = npxtrain.reshape(208,324)\n",
    "print(len(npxtrain))\n",
    "print(npxtrain.shape)\n",
    "print(npxtrain[5])"
   ]
  },
  {
   "cell_type": "code",
   "execution_count": null,
   "metadata": {},
   "outputs": [
    {
     "name": "stdout",
     "output_type": "stream",
     "text": [
      "208\n",
      "208\n",
      "[0, 1, None, None, None, 5, None, None, None, 9, None, None, None, None, None, None, None, None, 18, None, 20, None, None, None, None, None, None, '12398', '0']\n",
      "(208, 29)\n"
     ]
    }
   ],
   "source": [
    "print(len(ytrain))\n",
    "a = 0\n",
    "for x in range(len(ytrain)):\n",
    "    try:\n",
    "        print(ytrain[x][0][0])\n",
    "    except:\n",
    "        a+=1\n",
    "print(a)\n",
    "print(ytrain[0])\n",
    "npytrain = np.array(ytrain)\n",
    "print(npytrain.shape)"
   ]
  },
  {
   "cell_type": "code",
   "execution_count": null,
   "metadata": {},
   "outputs": [
    {
     "name": "stdout",
     "output_type": "stream",
     "text": [
      "208 208\n",
      "(208, 324)\n"
     ]
    },
    {
     "data": {
      "text/plain": [
       "KNeighborsRegressor(n_neighbors=3)"
      ]
     },
     "execution_count": 70,
     "metadata": {},
     "output_type": "execute_result"
    }
   ],
   "source": [
    "import warnings\n",
    "warnings.filterwarnings(\"ignore\", category=np.VisibleDeprecationWarning)\n",
    "print(len(xtrain),len(ytrain))\n",
    "print(npxtrain.shape)\n",
    "knn.fit(npxtrain,npytrain)"
   ]
  },
  {
   "cell_type": "code",
   "execution_count": null,
   "metadata": {},
   "outputs": [
    {
     "name": "stdout",
     "output_type": "stream",
     "text": [
      "[ 2  0  0  0  0  0  0  0  0  0  0  0  0  0  0  0  0  0  0  0  0  0  0  0\n",
      "  0  0  0  0  1  0  0  0  5  0  0  0  9  0  0  0  0  0  0  0  0 18  0 20\n",
      "  0  0  0  0  0  0  0  0  0  0  0  0  0  0  0  0  0  0  0  0  0  0  0  0\n",
      "  0  0  0  0  0  0  0  0  0  0  0  0  0  0  0  0  0  0  0  0  0  0  0  0\n",
      "  0  0  0  0  0  0  0  0  0  0  0  0  0  0  0  0  0  0  0  0  0  0  0  0\n",
      "  0  0  0  0  0  0  0  0  0  0  0  0  0  0  0  0  0  0  0  0  0  0  0  0\n",
      "  0  0  0  0  0  0  0  0  0  0  0  0  0  0  0  0  0  0  0  0  0  0  0  0\n",
      "  0  0  0  0  0  0  0  0  0  0  0  0  0  0  0  0  0  0  0  0  0  0  0  0\n",
      "  0  0  0  0  0  0  9  0  0  0  0  0  0  0  0  0  0  0  0  0  0  0  0  0\n",
      "  0  0  0  0  0  0  0  0  0  0  0  0  0  0  0  0  0  0 18  0  0  0  0  0\n",
      "  0  0  0  0  1  0  0  0  0  0  0  0  0  0  0  0  0  0  0  0  0  0  0  0\n",
      "  0  0  0  0  0  0  0  0  0  0  0  0  0  0  0  0  0  0  0  0  0  0  0  0\n",
      "  0  0  0  0  0  0  0  0  0  0  0  0  0  0  0  0  0  0  0  0  0  0  0  0\n",
      "  0  0  0  0  0  0  0  0  0  0  0  0]\n",
      "(324,)\n",
      "208\n"
     ]
    }
   ],
   "source": [
    "print(npxtrain[5])\n",
    "print(npxtrain[5].shape)\n",
    "\"\"\"testvalue = npxtrain[5]\n",
    "testvalue = list(testvalue.reshape(1,-1))\n",
    "print(testvalue)\n",
    "knn.predict(testvalue)\"\"\"\n",
    "a = 0\n",
    "for ele in npxtrain:\n",
    "    try:\n",
    "        knn.predict(list(ele.reshape(1,-1)))\n",
    "    except:\n",
    "        a+=1\n",
    "print(a)"
   ]
  },
  {
   "cell_type": "markdown",
   "metadata": {},
   "source": []
  }
 ],
 "metadata": {
  "kernelspec": {
   "display_name": "Python 3",
   "language": "python",
   "name": "python3"
  },
  "language_info": {
   "codemirror_mode": {
    "name": "ipython",
    "version": 3
   },
   "file_extension": ".py",
   "mimetype": "text/x-python",
   "name": "python",
   "nbconvert_exporter": "python",
   "pygments_lexer": "ipython3",
   "version": "3.10.0"
  },
  "orig_nbformat": 4,
  "vscode": {
   "interpreter": {
    "hash": "9150eddf9d57e43cf26433c2ff9f37043e29484a7b48c830c4e208e069951b9e"
   }
  }
 },
 "nbformat": 4,
 "nbformat_minor": 2
}
