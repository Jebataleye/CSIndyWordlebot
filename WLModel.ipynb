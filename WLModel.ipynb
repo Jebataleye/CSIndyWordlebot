{
  "cells": [
    {
      "cell_type": "code",
      "execution_count": 1,
      "metadata": {
        "colab": {
          "base_uri": "https://localhost:8080/"
        },
        "id": "0Kik7kMgQGnM",
        "outputId": "d25a35b2-e852-45ee-9de7-7207350c428a"
      },
      "outputs": [
        {
          "name": "stdout",
          "output_type": "stream",
          "text": [
            "Requirement already satisfied: sklearn in c:\\users\\gamer\\anaconda3\\lib\\site-packages (0.0.post1)\n"
          ]
        }
      ],
      "source": [
        "import sys\n",
        "!{sys.executable} -m pip install sklearn\n"
      ]
    },
    {
      "cell_type": "code",
      "execution_count": 2,
      "metadata": {
        "id": "GClxrl3kQGnN"
      },
      "outputs": [],
      "source": [
        "import sklearn\n",
        "from sklearn.neighbors import KNeighborsRegressor\n",
        "import numpy as np\n",
        "knn = KNeighborsRegressor(n_neighbors=3)"
      ]
    },
    {
      "cell_type": "code",
      "execution_count": 3,
      "metadata": {
        "id": "qtN3pwuoQGnO"
      },
      "outputs": [],
      "source": [
        "\n",
        "#function that numericalizes the strings and converts them into lists with 27 elements so all x's are the same size\n",
        "def numericalize(word):\n",
        "    #key for numericalizing letters\n",
        "    letkey = [\"\",\"a\",\"b\",\"c\",\"d\",\"e\",\"f\",\"g\",\"h\",\"i\",\"j\",\"k\",\"l\",\"m\",\"n\",\"o\",\"p\",\"q\",\"r\",\"s\",\"t\",\"u\",\"v\",\"w\",\"x\",\"y\",\"z\"]\n",
        "    #creates an empty list of size 27\n",
        "    replacement = [0]*27\n",
        "    #for every letter in the alphabet, if the letter is in the word, change the index of that spot of the replacement to the number assigned to the letter in the key\n",
        "    for key in letkey:\n",
        "        if key in word:\n",
        "            replacement[letkey.index(key)] = letkey.index(key)\n",
        "        else:\n",
        "            replacement[letkey.index(key)] = 0\n",
        "    #old code\n",
        "    \"\"\"for let in word:\n",
        "        replacement.append(letkey.index(let))\"\"\"\n",
        "\n",
        "    return replacement\n",
        "\n",
        "with open(\"completed.txt\") as dataset:\n",
        "    lines = dataset.readlines()\n",
        "xtrain = []\n",
        "data = []\n",
        "#split the data to fomrat it\n",
        "for line in lines:\n",
        "    data.append(line.split(\"-\"))\n",
        "#xtrain is everything but the last 3 ytrain is the opposite\n",
        "xtrain = [x[:-3] for x in data] \n",
        "ytrain = [x[-3:] for x in data]\n",
        "#the first index is the guess number, which cannot be numericalized as its not in the key, so we just turn it into a list of size 27 with only one index being the guess number and everything else empty\n",
        "for x in range(len(xtrain)):\n",
        "    xtrain[x][0] = [int(xtrain[x][0])]+[0]*26\n",
        "\n",
        "#goes through all the indexes of xtrain\n",
        "for x in range(len(xtrain)):\n",
        "    #goes through every piece of data\n",
        "    for y in range(12):\n",
        "        #checks if the data is None and turns it into a list of 27 Nones\n",
        "        if xtrain[x][y] == 'None':\n",
        "            xtrain[x][y] = [0]*27\n",
        "        #checks if its a str and numericalizes it\n",
        "        if type(xtrain[x][y]) == str:\n",
        "            xtrain[x][y] = numericalize(xtrain[x][y])\n",
        "        \"\"\"if y != 0:\n",
        "            print(xtrain[x][y])\n",
        "            xtrain[x][0] += xtrain[x][y]\n",
        "        xtrain[x] = xtrain[x][0]\"\"\"\n",
        "#runs through the y's and numericalizes it\n",
        "for x in range(len(ytrain)):\n",
        "        ytrain[x][0] = numericalize(ytrain[x][0])   \n",
        "        ytrain[x][2] = ytrain[x][2].replace(\"\\n\",\"\")\n",
        "        ytrain[x][0] += [ytrain[x][1]]\n",
        "        ytrain[x][0] += [ytrain[x][2]]\n",
        "        ytrain[x] = ytrain[x][0]\n",
        "\n",
        "\n"
      ]
    },
    {
      "cell_type": "code",
      "execution_count": 4,
      "metadata": {
        "colab": {
          "base_uri": "https://localhost:8080/"
        },
        "id": "q6jdnvUXQGnO",
        "outputId": "956cce4d-c983-4e78-9033-9b4bf4ef38e2"
      },
      "outputs": [
        {
          "name": "stdout",
          "output_type": "stream",
          "text": [
            "[[[1]\n",
            "  [2]\n",
            "  [3]]\n",
            "\n",
            " [[4]\n",
            "  [5]\n",
            "  [6]]]\n",
            "(2, 3, 1)\n",
            "[[1 2 3]\n",
            " [4 5 6]]\n",
            "<class 'numpy.int32'>\n",
            "3.5\n"
          ]
        }
      ],
      "source": [
        "#test for how reshaping np arrays works\n",
        "x = [[[1],[2],[3]],[[4],[5],[6]]]\n",
        "npx = np.array(x)\n",
        "print(npx)\n",
        "print(npx.shape)\n",
        "npx = npx.reshape(2,3)\n",
        "print(npx)\n",
        "print(type(npx[0][0]))\n",
        "print(np.mean(npx))"
      ]
    },
    {
      "cell_type": "code",
      "execution_count": 5,
      "metadata": {
        "colab": {
          "base_uri": "https://localhost:8080/"
        },
        "id": "jvP9HSmzQGnP",
        "outputId": "e89f82e2-dd13-4703-e5ef-94b131b40c49"
      },
      "outputs": [
        {
          "name": "stdout",
          "output_type": "stream",
          "text": [
            "208\n",
            "(208, 324)\n",
            "[ 2  0  0  0  0  0  0  0  0  0  0  0  0  0  0  0  0  0  0  0  0  0  0  0\n",
            "  0  0  0  0  1  0  0  0  5  0  0  0  9  0  0  0  0  0  0  0  0 18  0 20\n",
            "  0  0  0  0  0  0  0  0  0  0  0  0  0  0  0  0  0  0  0  0  0  0  0  0\n",
            "  0  0  0  0  0  0  0  0  0  0  0  0  0  0  0  0  0  0  0  0  0  0  0  0\n",
            "  0  0  0  0  0  0  0  0  0  0  0  0  0  0  0  0  0  0  0  0  0  0  0  0\n",
            "  0  0  0  0  0  0  0  0  0  0  0  0  0  0  0  0  0  0  0  0  0  0  0  0\n",
            "  0  0  0  0  0  0  0  0  0  0  0  0  0  0  0  0  0  0  0  0  0  0  0  0\n",
            "  0  0  0  0  0  0  0  0  0  0  0  0  0  0  0  0  0  0  0  0  0  0  0  0\n",
            "  0  0  0  0  0  0  9  0  0  0  0  0  0  0  0  0  0  0  0  0  0  0  0  0\n",
            "  0  0  0  0  0  0  0  0  0  0  0  0  0  0  0  0  0  0 18  0  0  0  0  0\n",
            "  0  0  0  0  1  0  0  0  0  0  0  0  0  0  0  0  0  0  0  0  0  0  0  0\n",
            "  0  0  0  0  0  0  0  0  0  0  0  0  0  0  0  0  0  0  0  0  0  0  0  0\n",
            "  0  0  0  0  0  0  0  0  0  0  0  0  0  0  0  0  0  0  0  0  0  0  0  0\n",
            "  0  0  0  0  0  0  0  0  0  0  0  0]\n"
          ]
        }
      ],
      "source": [
        "#print(xtrain[3])\n",
        "#turns xtrain into a np array\n",
        "npxtrain = np.array(xtrain)\n",
        "#print(npxtrain.shape)\n",
        "#reshapes it into a 2d array of 208 indexes with 324 indexes\n",
        "npxtrain = npxtrain.reshape(208,324)\n",
        "print(len(npxtrain))\n",
        "print(npxtrain.shape)\n",
        "print(npxtrain[5])"
      ]
    },
    {
      "cell_type": "code",
      "execution_count": 6,
      "metadata": {
        "colab": {
          "base_uri": "https://localhost:8080/"
        },
        "id": "mc-nllQZQGnP",
        "outputId": "d54c271d-058c-447e-ec2c-199cf426a903"
      },
      "outputs": [
        {
          "name": "stdout",
          "output_type": "stream",
          "text": [
            "208\n",
            "208\n",
            "[0, 1, 0, 0, 0, 5, 0, 0, 0, 9, 0, 0, 0, 0, 0, 0, 0, 0, 18, 0, 20, 0, 0, 0, 0, 0, 0, '12398', '0']\n",
            "(208, 29)\n"
          ]
        }
      ],
      "source": [
        "print(len(ytrain))\n",
        "a = 0\n",
        "#test to make sure that y train is 2d\n",
        "for x in range(len(ytrain)):\n",
        "    try:\n",
        "        print(ytrain[x][0][0])\n",
        "    except:\n",
        "        a+=1\n",
        "\n",
        "print(a)\n",
        "print(ytrain[0])\n",
        "#turns ytrain into a nparray\n",
        "npytrain = np.array(ytrain)\n",
        "print(npytrain.shape)"
      ]
    },
    {
      "cell_type": "code",
      "execution_count": 7,
      "metadata": {
        "colab": {
          "base_uri": "https://localhost:8080/"
        },
        "id": "sbcMDDCjQGnP",
        "outputId": "a477ef3e-453b-4d07-d4e7-0db44afad34e"
      },
      "outputs": [
        {
          "name": "stdout",
          "output_type": "stream",
          "text": [
            "208 208\n",
            "(208, 324)\n"
          ]
        },
        {
          "data": {
            "text/plain": [
              "KNeighborsRegressor(n_neighbors=3)"
            ]
          },
          "execution_count": 7,
          "metadata": {},
          "output_type": "execute_result"
        }
      ],
      "source": [
        "print(len(xtrain),len(ytrain))\n",
        "print(npxtrain.shape)\n",
        "npytrain = npytrain.astype(float)\n",
        "#fits the ml model\n",
        "fxtrain = npxtrain.astype(float)\n",
        "knn.fit(fxtrain,npytrain)"
      ]
    },
    {
      "cell_type": "code",
      "execution_count": 8,
      "metadata": {
        "colab": {
          "base_uri": "https://localhost:8080/"
        },
        "id": "aDBBCZ4VFBkF",
        "outputId": "e10d2cfd-069f-4ae7-e5fe-f105216c0e63"
      },
      "outputs": [
        {
          "data": {
            "text/plain": [
              "6.0"
            ]
          },
          "execution_count": 8,
          "metadata": {},
          "output_type": "execute_result"
        }
      ],
      "source": [
        "data = np.array(['1', '2', '3', '4', '7', '9', '10', '12'])\n",
        "datanew = data.astype(int)\n",
        "#attempt to calculate median of values\n",
        "np.mean(datanew)\n",
        "#https://www.statology.org/typeerror-cannot-perform-reduce-with-flexible-type/"
      ]
    },
    {
      "cell_type": "code",
      "execution_count": 22,
      "metadata": {
        "colab": {
          "base_uri": "https://localhost:8080/"
        },
        "id": "hC4NlMd3QGnQ",
        "outputId": "649f4e07-82cc-4d98-d50e-61556acb1e4e"
      },
      "outputs": [
        {
          "name": "stdout",
          "output_type": "stream",
          "text": [
            "<class 'numpy.int32'>\n",
            "<class 'numpy.float64'>\n",
            "0 non-float data points in fxtrain\n",
            "(324,)\n",
            "0 failed predictions in fxtrain\n",
            "<class 'numpy.ndarray'>\n",
            "[1. 0. 0. 0. 0. 0. 0. 0. 0. 0. 0. 0. 0. 0. 0. 0. 0. 0. 0. 0. 0. 0. 0. 0.\n",
            " 0. 0. 0. 0. 0. 0. 0. 0. 0. 0. 0. 0. 0. 0. 0. 0. 0. 0. 0. 0. 0. 0. 0. 0.\n",
            " 0. 0. 0. 0. 0. 0. 0. 0. 0. 0. 0. 0. 0. 0. 0. 0. 0. 0. 0. 0. 0. 0. 0. 0.\n",
            " 0. 0. 0. 0. 0. 0. 0. 0. 0. 0. 0. 0. 0. 0. 0. 0. 0. 0. 0. 0. 0. 0. 0. 0.\n",
            " 0. 0. 0. 0. 0. 0. 0. 0. 0. 0. 0. 0. 0. 0. 0. 0. 0. 0. 0. 0. 0. 0. 0. 0.\n",
            " 0. 0. 0. 0. 0. 0. 0. 0. 0. 0. 0. 0. 0. 0. 0. 0. 0. 0. 0. 0. 0. 0. 0. 0.\n",
            " 0. 0. 0. 0. 0. 0. 0. 0. 0. 0. 0. 0. 0. 0. 0. 0. 0. 0. 0. 0. 0. 0. 0. 0.\n",
            " 0. 0. 0. 0. 0. 0. 0. 0. 0. 0. 0. 0. 0. 0. 0. 0. 0. 0. 0. 0. 0. 0. 0. 0.\n",
            " 0. 0. 0. 0. 0. 0. 0. 0. 0. 0. 0. 0. 0. 0. 0. 0. 0. 0. 0. 0. 0. 0. 0. 0.\n",
            " 0. 0. 0. 0. 0. 0. 0. 0. 0. 0. 0. 0. 0. 0. 0. 0. 0. 0. 0. 0. 0. 0. 0. 0.\n",
            " 0. 0. 0. 0. 0. 0. 0. 0. 0. 0. 0. 0. 0. 0. 0. 0. 0. 0. 0. 0. 0. 0. 0. 0.\n",
            " 0. 0. 0. 0. 0. 0. 0. 0. 0. 0. 0. 0. 0. 0. 0. 0. 0. 0. 0. 0. 0. 0. 0. 0.\n",
            " 0. 0. 0. 0. 0. 0. 0. 0. 0. 0. 0. 0. 0. 0. 0. 0. 0. 0. 0. 0. 0. 0. 0. 0.\n",
            " 0. 0. 0. 0. 0. 0. 0. 0. 0. 0. 0. 0.]\n"
          ]
        }
      ],
      "source": [
        "\n",
        "print(type(npxtrain[207][10]))\n",
        "\n",
        "print(type(fxtrain[207][10]))\n",
        "for x in range(len(npxtrain)):\n",
        "  for y in range(324):\n",
        "    fxtrain[x][y] = int(npxtrain[x][y])\n",
        "p = 0\n",
        "for x in range(len(fxtrain)):\n",
        "  for y in range(324):\n",
        "    if np.issubdtype(fxtrain[x][y].dtype, float) != True:\n",
        "      p+=1\n",
        "print(p,\"non-float data points in fxtrain\")\n",
        "print(npxtrain[5].shape)\n",
        "#old code\n",
        "\"\"\"testvalue = npxtrain[5]\n",
        "testvalue = list(testvalue.reshape(1,-1))\n",
        "print(testvalue)\n",
        "knn.predict(testvalue)\"\"\"\n",
        "a = 0\n",
        "#tries to predict the outcome of every single piece of data in the dataset, which all of them throw errors\n",
        "\"\"\"for ele in fxtrain:\n",
        "    try:\n",
        "        knn.predict(list(ele.reshape(1,-1)))\n",
        "    except:\n",
        "        a+=1\"\"\"\n",
        "print(a, \"failed predictions in fxtrain\")\n",
        "print(type(npxtrain))\n",
        "fxtrain = npxtrain.astype(float)\n",
        "\"\"\"for ele in fxtrain[0]:\n",
        "  print(type(ele))\"\"\"\n",
        "print(fxtrain[0])\n",
        "preds = knn.predict(fxtrain[0].reshape(1,-1))"
      ]
    },
    {
      "cell_type": "code",
      "execution_count": 42,
      "metadata": {},
      "outputs": [
        {
          "name": "stdout",
          "output_type": "stream",
          "text": [
            "[[0.0, 1.0, 0.0, 0.0, 0.0, 5.0, 0.0, 0.0, 0.0, 9.0, 0.0, 0.0, 0.0, 0.0, 0.0, 0.0, 0.0, 0.0, 18.0, 0.0, 20.0, 0.0, 0.0, 0.0, 0.0, 0.0]]\n",
            "[[12398.0]]\n"
          ]
        }
      ],
      "source": [
        "def format_predictions(predictions, intent):\n",
        "    formatted_predictions = []\n",
        "    for x in range(len(predictions)):\n",
        "        if intent == \"fresh\":\n",
        "            formatted_predictions.append(list(predictions[x][:26]))\n",
        "        if intent == \"list\":\n",
        "            \n",
        "            formatted_predictions.append([predictions[x][27]])\n",
        "    return formatted_predictions\n",
        "fresh_prediction = format_predictions(preds, \"fresh\")\n",
        "list_prediction = format_predictions(preds,\"list\")\n",
        "print(fresh_prediction)\n",
        "print(list_prediction)"
      ]
    },
    {
      "cell_type": "code",
      "execution_count": 48,
      "metadata": {},
      "outputs": [
        {
          "name": "stdout",
          "output_type": "stream",
          "text": [
            "['aeirt']\n"
          ]
        }
      ],
      "source": [
        "def denumericalize(predictions):\n",
        "    letkey = [\"\",\"a\",\"b\",\"c\",\"d\",\"e\",\"f\",\"g\",\"h\",\"i\",\"j\",\"k\",\"l\",\"m\",\"n\",\"o\",\"p\",\"q\",\"r\",\"s\",\"t\",\"u\",\"v\",\"w\",\"x\",\"y\",\"z\"]\n",
        "    word = \"\"\n",
        "    wordlist = []\n",
        "    for x in range(len(predictions)):\n",
        "        for y in range(len(predictions[x])):\n",
        "            word+=letkey[int(predictions[x][y])]\n",
        "        wordlist.append(word)\n",
        "    return wordlist\n",
        "predicted_words = denumericalize(fresh_prediction)\n",
        "print(predicted_words)"
      ]
    }
  ],
  "metadata": {
    "colab": {
      "provenance": []
    },
    "kernelspec": {
      "display_name": "Python 3.9.5 64-bit",
      "language": "python",
      "name": "python3"
    },
    "language_info": {
      "codemirror_mode": {
        "name": "ipython",
        "version": 3
      },
      "file_extension": ".py",
      "mimetype": "text/x-python",
      "name": "python",
      "nbconvert_exporter": "python",
      "pygments_lexer": "ipython3",
      "version": "3.9.5"
    },
    "orig_nbformat": 4,
    "vscode": {
      "interpreter": {
        "hash": "d35b5e83f26df2a7f5f14166aafcebc8840f867736ab8cdfbd4005928fd9e80d"
      }
    }
  },
  "nbformat": 4,
  "nbformat_minor": 0
}
