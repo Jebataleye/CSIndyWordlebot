{
 "cells": [
  {
   "cell_type": "code",
   "execution_count": 2,
   "metadata": {},
   "outputs": [
    {
     "name": "stdout",
     "output_type": "stream",
     "text": [
      "Requirement already satisfied: sklearn in c:\\users\\gamer\\appdata\\local\\programs\\python\\python39\\lib\\site-packages (0.0)\n",
      "Requirement already satisfied: scikit-learn in c:\\users\\gamer\\appdata\\local\\programs\\python\\python39\\lib\\site-packages (from sklearn) (1.1.2)\n",
      "Requirement already satisfied: scipy>=1.3.2 in c:\\users\\gamer\\appdata\\local\\programs\\python\\python39\\lib\\site-packages (from scikit-learn->sklearn) (1.9.2)\n",
      "Requirement already satisfied: numpy>=1.17.3 in c:\\users\\gamer\\appdata\\local\\programs\\python\\python39\\lib\\site-packages (from scikit-learn->sklearn) (1.20.3)\n",
      "Requirement already satisfied: joblib>=1.0.0 in c:\\users\\gamer\\appdata\\local\\programs\\python\\python39\\lib\\site-packages (from scikit-learn->sklearn) (1.2.0)\n",
      "Requirement already satisfied: threadpoolctl>=2.0.0 in c:\\users\\gamer\\appdata\\local\\programs\\python\\python39\\lib\\site-packages (from scikit-learn->sklearn) (3.1.0)\n"
     ]
    },
    {
     "name": "stderr",
     "output_type": "stream",
     "text": [
      "\n",
      "[notice] A new release of pip available: 22.2.2 -> 22.3.1\n",
      "[notice] To update, run: python.exe -m pip install --upgrade pip\n"
     ]
    }
   ],
   "source": [
    "import sys\n",
    "!{sys.executable} -m pip install sklearn\n"
   ]
  },
  {
   "cell_type": "code",
   "execution_count": 3,
   "metadata": {},
   "outputs": [],
   "source": [
    "import sklearn\n",
    "from sklearn.neighbors import KNeighborsRegressor\n",
    "import numpy as np\n",
    "knn = KNeighborsRegressor(n_neighbors=3)"
   ]
  },
  {
   "cell_type": "code",
   "execution_count": 50,
   "metadata": {},
   "outputs": [],
   "source": [
    "\n",
    "#function that numericalizes the strings and converts them into lists with 27 elements so all x's are the same size\n",
    "def numericalize(word):\n",
    "    #key for numericalizing letters\n",
    "    letkey = [\"\",\"a\",\"b\",\"c\",\"d\",\"e\",\"f\",\"g\",\"h\",\"i\",\"j\",\"k\",\"l\",\"m\",\"n\",\"o\",\"p\",\"q\",\"r\",\"s\",\"t\",\"u\",\"v\",\"w\",\"x\",\"y\",\"z\"]\n",
    "    #creates an empty list of size 27\n",
    "    replacement = [0]*27\n",
    "    #for every letter in the alphabet, if the letter is in the word, change the index of that spot of the replacement to the number assigned to the letter in the key\n",
    "    for key in letkey:\n",
    "        if key in word:\n",
    "            replacement[letkey.index(key)] = letkey.index(key)\n",
    "        else:\n",
    "            replacement[letkey.index(key)] = 0\n",
    "    #old code\n",
    "    \"\"\"for let in word:\n",
    "        replacement.append(letkey.index(let))\"\"\"\n",
    "\n",
    "    return replacement\n",
    "\n",
    "with open(\"completed.txt\") as dataset:\n",
    "    lines = dataset.readlines()\n",
    "xtrain = []\n",
    "data = []\n",
    "#split the data to fomrat it\n",
    "for line in lines:\n",
    "    data.append(line.split(\"-\"))\n",
    "#xtrain is everything but the last 3 ytrain is the opposite\n",
    "xtrain = [x[:-3] for x in data] \n",
    "ytrain = [x[-3:] for x in data]\n",
    "#the first index is the guess number, which cannot be numericalized as its not in the key, so we just turn it into a list of size 27 with only one index being the guess number and everything else empty\n",
    "for x in range(len(xtrain)):\n",
    "    xtrain[x][0] = [int(xtrain[x][0])]+[0]*26\n",
    "\n",
    "#goes through all the indexes of xtrain\n",
    "for x in range(len(xtrain)):\n",
    "    #goes through every piece of data\n",
    "    for y in range(12):\n",
    "        #checks if the data is None and turns it into a list of 27 Nones\n",
    "        if xtrain[x][y] == 'None':\n",
    "            xtrain[x][y] = [0]*27\n",
    "        #checks if its a str and numericalizes it\n",
    "        if type(xtrain[x][y]) == str:\n",
    "            xtrain[x][y] = numericalize(xtrain[x][y])\n",
    "        \"\"\"if y != 0:\n",
    "            print(xtrain[x][y])\n",
    "            xtrain[x][0] += xtrain[x][y]\n",
    "        xtrain[x] = xtrain[x][0]\"\"\"\n",
    "#runs through the y's and numericalizes it\n",
    "for x in range(len(ytrain)):\n",
    "        ytrain[x][0] = numericalize(ytrain[x][0])   \n",
    "        ytrain[x][2] = ytrain[x][2].replace(\"\\n\",\"\")\n",
    "        ytrain[x][0] += [ytrain[x][1]]\n",
    "        ytrain[x][0] += [ytrain[x][2]]\n",
    "        ytrain[x] = ytrain[x][0]\n",
    "\n",
    "\n"
   ]
  },
  {
   "cell_type": "code",
   "execution_count": 51,
   "metadata": {},
   "outputs": [
    {
     "name": "stdout",
     "output_type": "stream",
     "text": [
      "[[[1]\n",
      "  [2]\n",
      "  [3]]\n",
      "\n",
      " [[4]\n",
      "  [5]\n",
      "  [6]]]\n",
      "(2, 3, 1)\n",
      "[[1 2 3]\n",
      " [4 5 6]]\n"
     ]
    }
   ],
   "source": [
    "x = [[[1],[2],[3]],[[4],[5],[6]]]\n",
    "npx = np.array(x)\n",
    "print(npx)\n",
    "print(npx.shape)\n",
    "npx = npx.reshape(2,3)\n",
    "print(npx)"
   ]
  },
  {
   "cell_type": "code",
   "execution_count": 53,
   "metadata": {},
   "outputs": [
    {
     "name": "stdout",
     "output_type": "stream",
     "text": [
      "208\n",
      "(208, 324)\n",
      "[ 2  0  0  0  0  0  0  0  0  0  0  0  0  0  0  0  0  0  0  0  0  0  0  0\n",
      "  0  0  0  0  1  0  0  0  5  0  0  0  9  0  0  0  0  0  0  0  0 18  0 20\n",
      "  0  0  0  0  0  0  0  0  0  0  0  0  0  0  0  0  0  0  0  0  0  0  0  0\n",
      "  0  0  0  0  0  0  0  0  0  0  0  0  0  0  0  0  0  0  0  0  0  0  0  0\n",
      "  0  0  0  0  0  0  0  0  0  0  0  0  0  0  0  0  0  0  0  0  0  0  0  0\n",
      "  0  0  0  0  0  0  0  0  0  0  0  0  0  0  0  0  0  0  0  0  0  0  0  0\n",
      "  0  0  0  0  0  0  0  0  0  0  0  0  0  0  0  0  0  0  0  0  0  0  0  0\n",
      "  0  0  0  0  0  0  0  0  0  0  0  0  0  0  0  0  0  0  0  0  0  0  0  0\n",
      "  0  0  0  0  0  0  9  0  0  0  0  0  0  0  0  0  0  0  0  0  0  0  0  0\n",
      "  0  0  0  0  0  0  0  0  0  0  0  0  0  0  0  0  0  0 18  0  0  0  0  0\n",
      "  0  0  0  0  1  0  0  0  0  0  0  0  0  0  0  0  0  0  0  0  0  0  0  0\n",
      "  0  0  0  0  0  0  0  0  0  0  0  0  0  0  0  0  0  0  0  0  0  0  0  0\n",
      "  0  0  0  0  0  0  0  0  0  0  0  0  0  0  0  0  0  0  0  0  0  0  0  0\n",
      "  0  0  0  0  0  0  0  0  0  0  0  0]\n"
     ]
    }
   ],
   "source": [
    "#print(xtrain[3])\n",
    "npxtrain = np.array(xtrain)\n",
    "#print(npxtrain.shape)\n",
    "npxtrain = npxtrain.reshape(208,324)\n",
    "print(len(npxtrain))\n",
    "print(npxtrain.shape)\n",
    "print(npxtrain[5])"
   ]
  },
  {
   "cell_type": "code",
   "execution_count": 43,
   "metadata": {},
   "outputs": [
    {
     "name": "stdout",
     "output_type": "stream",
     "text": [
      "208\n",
      "208\n",
      "[0, 1, None, None, None, 5, None, None, None, 9, None, None, None, None, None, None, None, None, 18, None, 20, None, None, None, None, None, None, '12398', '0']\n",
      "(208, 29)\n"
     ]
    }
   ],
   "source": [
    "print(len(ytrain))\n",
    "a = 0\n",
    "for x in range(len(ytrain)):\n",
    "    try:\n",
    "        print(ytrain[x][0][0])\n",
    "    except:\n",
    "        a+=1\n",
    "print(a)\n",
    "print(ytrain[0])\n",
    "npytrain = np.array(ytrain)\n",
    "print(npytrain.shape)"
   ]
  },
  {
   "cell_type": "code",
   "execution_count": 55,
   "metadata": {},
   "outputs": [
    {
     "name": "stdout",
     "output_type": "stream",
     "text": [
      "208 208\n"
     ]
    },
    {
     "data": {
      "text/plain": [
       "KNeighborsRegressor(n_neighbors=3)"
      ]
     },
     "execution_count": 55,
     "metadata": {},
     "output_type": "execute_result"
    }
   ],
   "source": [
    "import warnings\n",
    "warnings.filterwarnings(\"ignore\", category=np.VisibleDeprecationWarning)\n",
    "print(len(xtrain),len(ytrain))\n",
    "knn.fit(npxtrain,npytrain)"
   ]
  },
  {
   "cell_type": "code",
   "execution_count": null,
   "metadata": {},
   "outputs": [],
   "source": [
    "knn"
   ]
  }
 ],
 "metadata": {
  "kernelspec": {
   "display_name": "Python 3.9.5 64-bit",
   "language": "python",
   "name": "python3"
  },
  "language_info": {
   "codemirror_mode": {
    "name": "ipython",
    "version": 3
   },
   "file_extension": ".py",
   "mimetype": "text/x-python",
   "name": "python",
   "nbconvert_exporter": "python",
   "pygments_lexer": "ipython3",
   "version": "3.9.5"
  },
  "orig_nbformat": 4,
  "vscode": {
   "interpreter": {
    "hash": "d35b5e83f26df2a7f5f14166aafcebc8840f867736ab8cdfbd4005928fd9e80d"
   }
  }
 },
 "nbformat": 4,
 "nbformat_minor": 2
}
