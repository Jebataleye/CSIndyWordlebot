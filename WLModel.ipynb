{
  "cells": [
    {
      "cell_type": "code",
      "execution_count": 316,
      "metadata": {
        "colab": {
          "base_uri": "https://localhost:8080/"
        },
        "id": "0Kik7kMgQGnM",
        "outputId": "d25a35b2-e852-45ee-9de7-7207350c428a"
      },
      "outputs": [
        {
          "name": "stdout",
          "output_type": "stream",
          "text": [
            "Requirement already satisfied: sklearn in c:\\users\\gamer\\anaconda3\\lib\\site-packages (0.0.post1)\n",
            "Requirement already satisfied: termcolor in c:\\users\\gamer\\anaconda3\\lib\\site-packages (2.2.0)\n"
          ]
        }
      ],
      "source": [
        "import sys\n",
        "!{sys.executable} -m pip install sklearn\n",
        "!{sys.executable} -m pip install termcolor"
      ]
    },
    {
      "cell_type": "code",
      "execution_count": 317,
      "metadata": {},
      "outputs": [],
      "source": [
        "import random"
      ]
    },
    {
      "cell_type": "code",
      "execution_count": 318,
      "metadata": {
        "id": "GClxrl3kQGnN"
      },
      "outputs": [],
      "source": [
        "import sklearn\n",
        "from sklearn.neighbors import KNeighborsRegressor\n",
        "from sklearn.neighbors import KNeighborsClassifier\n",
        "import numpy as np\n",
        "from colorama import init\n",
        "init()\n",
        "knn = KNeighborsRegressor(n_neighbors=3)\n"
      ]
    },
    {
      "cell_type": "code",
      "execution_count": 319,
      "metadata": {
        "id": "qtN3pwuoQGnO"
      },
      "outputs": [
        {
          "name": "stdout",
          "output_type": "stream",
          "text": [
            "276\n",
            "5\n",
            "276\n",
            "12\n"
          ]
        }
      ],
      "source": [
        "\n",
        "#function that numericalizes the strings and converts them into lists with 27 elements so all x's are the same size\n",
        "def numericalize(word):\n",
        "    #key for numericalizing letters\n",
        "    letkey = [\"\",\"a\",\"b\",\"c\",\"d\",\"e\",\"f\",\"g\",\"h\",\"i\",\"j\",\"k\",\"l\",\"m\",\"n\",\"o\",\"p\",\"q\",\"r\",\"s\",\"t\",\"u\",\"v\",\"w\",\"x\",\"y\",\"z\"]\n",
        "    #creates an empty list of size 27\n",
        "    replacement = [0]*27\n",
        "    #for every letter in the alphabet, if the letter is in the word, change the index of that spot of the replacement to the number assigned to the letter in the key\n",
        "    for key in letkey:\n",
        "        if key in word:\n",
        "            replacement[letkey.index(key)] = letkey.index(key)\n",
        "        else:\n",
        "            replacement[letkey.index(key)] = 0\n",
        "    #old code\n",
        "    \"\"\"for let in word:\n",
        "        replacement.append(letkey.index(let))\"\"\"\n",
        "\n",
        "    return replacement\n",
        "\n",
        "with open(\"temp.txt\") as dataset:\n",
        "    lines = dataset.readlines()\n",
        "xtrain = []\n",
        "data = []\n",
        "#split the data to fomrat it\n",
        "for line in lines:\n",
        "    data.append(line.split(\"-\"))\n",
        "#xtrain is everything but the last 3 ytrain is the opposite\n",
        "xtrain = [x[:-3] for x in data] \n",
        "ytrain = [x[-3:] for x in data]\n",
        "#the first index is the guess number, which cannot be numericalized as its not in the key, so we just turn it into a list of size 27 with only one index being the guess number and everything else empty\n",
        "for x in range(len(xtrain)):\n",
        "    xtrain[x][0] = [int(xtrain[x][0])]+[0]*26\n",
        "print(len(xtrain))\n",
        "print(len(xtrain[5][1]))\n",
        "#goes through all the indexes of xtrain\n",
        "for x in range(len(xtrain)):\n",
        "    #goes through every piece of data\n",
        "    for y in range(12):\n",
        "        #checks if the data is None and turns it into a list of 27 Nones\n",
        "        if xtrain[x][y] == 'None':\n",
        "            xtrain[x][y] = [0]*27\n",
        "        #checks if its a str and numericalizes it\n",
        "        if type(xtrain[x][y]) == str:\n",
        "            xtrain[x][y] = numericalize(xtrain[x][y])\n",
        "        \"\"\"if y != 0:\n",
        "            print(xtrain[x][y])\n",
        "            xtrain[x][0] += xtrain[x][y]\n",
        "        xtrain[x] = xtrain[x][0]\"\"\"\n",
        "#runs through the y's and numericalizes it\n",
        "for x in range(len(ytrain)):\n",
        "        ytrain[x][0] = numericalize(ytrain[x][0])   \n",
        "        ytrain[x][2] = ytrain[x][2].replace(\"\\n\",\"\")\n",
        "        ytrain[x][0] += [ytrain[x][1]]\n",
        "        ytrain[x][0] += [ytrain[x][2]]\n",
        "        ytrain[x] = ytrain[x][0]\n",
        "print(len(xtrain))\n",
        "print(len(xtrain[5]))\n"
      ]
    },
    {
      "cell_type": "code",
      "execution_count": 320,
      "metadata": {
        "colab": {
          "base_uri": "https://localhost:8080/"
        },
        "id": "q6jdnvUXQGnO",
        "outputId": "956cce4d-c983-4e78-9033-9b4bf4ef38e2"
      },
      "outputs": [
        {
          "name": "stdout",
          "output_type": "stream",
          "text": [
            "[[[1]\n",
            "  [2]\n",
            "  [3]]\n",
            "\n",
            " [[4]\n",
            "  [5]\n",
            "  [6]]]\n",
            "(2, 3, 1)\n",
            "[[1 2 3]\n",
            " [4 5 6]]\n",
            "<class 'numpy.int32'>\n",
            "3.5\n"
          ]
        }
      ],
      "source": [
        "#test for how reshaping np arrays works\n",
        "x = [[[1],[2],[3]],[[4],[5],[6]]]\n",
        "npx = np.array(x)\n",
        "print(npx)\n",
        "print(npx.shape)\n",
        "npx = npx.reshape(2,3)\n",
        "print(npx)\n",
        "print(type(npx[0][0]))\n",
        "print(np.mean(npx))"
      ]
    },
    {
      "cell_type": "code",
      "execution_count": 321,
      "metadata": {
        "colab": {
          "base_uri": "https://localhost:8080/"
        },
        "id": "jvP9HSmzQGnP",
        "outputId": "e89f82e2-dd13-4703-e5ef-94b131b40c49"
      },
      "outputs": [
        {
          "name": "stdout",
          "output_type": "stream",
          "text": [
            "(276, 12, 27)\n",
            "276\n",
            "(276, 324)\n",
            "[ 2  0  0  0  0  0  0  0  0  0  0  0  0  0  0  0  0  0  0  0  0  0  0  0\n",
            "  0  0  0  0  1  0  0  0  5  0  0  0  9  0  0  0  0  0  0  0  0 18  0 20\n",
            "  0  0  0  0  0  0  0  0  0  0  0  0  0  0  0  0  0  0  0  0  0  0  0  0\n",
            "  0  0  0  0  0  0  0  0  0  0  0  0  0  0  0  0  0  0  0  0  0  0  0  0\n",
            "  0  0  0  0  0  0  0  0  0  0  0  0  0  0  0  0  0  0  0  0  0  0  0  0\n",
            "  0  0  0  0  0  0  0  0  0  0  0  0  0  0  0  0  0  0  0  0  0  0  0  0\n",
            "  0  0  0  0  0  0  0  0  0  0  0  0  0  0  0  0  0  0  0  0  0  0  0  0\n",
            "  0  0  0  0  0  0  0  0  0  0  0  0  0  0  0  0  0  0  0  0  0  0  0  0\n",
            "  0  0  0  0  0  0  9  0  0  0  0  0  0  0  0  0  0  0  0  0  0  0  0  0\n",
            "  0  0  0  0  0  0  0  0  0  0  0  0  0  0  0  0  0  0 18  0  0  0  0  0\n",
            "  0  0  0  0  1  0  0  0  0  0  0  0  0  0  0  0  0  0  0  0  0  0  0  0\n",
            "  0  0  0  0  0  0  0  0  0  0  0  0  0  0  0  0  0  0  0  0  0  0  0  0\n",
            "  0  0  0  0  0  0  0  0  0  0  0  0  0  0  0  0  0  0  0  0  0  0  0  0\n",
            "  0  0  0  0  0  0  0  0  0  0  0  0]\n"
          ]
        }
      ],
      "source": [
        "#print(xtrain[3])\n",
        "#turns xtrain into a np array\n",
        "npxtrain = np.array(xtrain)\n",
        "print(npxtrain.shape)\n",
        "#reshapes it into a 2d array of 208 indexes with 324 indexes\n",
        "npxtrain = npxtrain.reshape(len(npxtrain),324)\n",
        "print(len(npxtrain))\n",
        "print(npxtrain.shape)\n",
        "print(npxtrain[5])"
      ]
    },
    {
      "cell_type": "code",
      "execution_count": 322,
      "metadata": {
        "colab": {
          "base_uri": "https://localhost:8080/"
        },
        "id": "mc-nllQZQGnP",
        "outputId": "d54c271d-058c-447e-ec2c-199cf426a903"
      },
      "outputs": [
        {
          "name": "stdout",
          "output_type": "stream",
          "text": [
            "276\n",
            "276\n",
            "[0, 1, 0, 0, 0, 5, 0, 0, 0, 9, 0, 0, 0, 0, 0, 0, 0, 0, 18, 0, 20, 0, 0, 0, 0, 0, 0, '12398', '0']\n",
            "(276, 29)\n"
          ]
        }
      ],
      "source": [
        "print(len(ytrain))\n",
        "a = 0\n",
        "#test to make sure that y train is 2d\n",
        "for x in range(len(ytrain)):\n",
        "    try:\n",
        "        print(ytrain[x][0][0])\n",
        "    except:\n",
        "        a+=1\n",
        "\n",
        "print(a)\n",
        "print(ytrain[0])\n",
        "#turns ytrain into a nparray\n",
        "npytrain = np.array(ytrain)\n",
        "print(npytrain.shape)"
      ]
    },
    {
      "cell_type": "code",
      "execution_count": 323,
      "metadata": {
        "colab": {
          "base_uri": "https://localhost:8080/"
        },
        "id": "sbcMDDCjQGnP",
        "outputId": "a477ef3e-453b-4d07-d4e7-0db44afad34e"
      },
      "outputs": [
        {
          "name": "stdout",
          "output_type": "stream",
          "text": [
            "276 276\n",
            "(276, 324)\n"
          ]
        },
        {
          "data": {
            "text/plain": [
              "KNeighborsRegressor(n_neighbors=3)"
            ]
          },
          "execution_count": 323,
          "metadata": {},
          "output_type": "execute_result"
        }
      ],
      "source": [
        "print(len(xtrain),len(ytrain))\n",
        "print(npxtrain.shape)\n",
        "npytrain = npytrain.astype(float)\n",
        "#fits the ml model\n",
        "fxtrain = npxtrain.astype(float)\n",
        "knn.fit(fxtrain,npytrain)"
      ]
    },
    {
      "cell_type": "code",
      "execution_count": 324,
      "metadata": {
        "colab": {
          "base_uri": "https://localhost:8080/"
        },
        "id": "aDBBCZ4VFBkF",
        "outputId": "e10d2cfd-069f-4ae7-e5fe-f105216c0e63"
      },
      "outputs": [
        {
          "data": {
            "text/plain": [
              "6.0"
            ]
          },
          "execution_count": 324,
          "metadata": {},
          "output_type": "execute_result"
        }
      ],
      "source": [
        "data = np.array(['1', '2', '3', '4', '7', '9', '10', '12'])\n",
        "datanew = data.astype(int)\n",
        "#attempt to calculate median of values\n",
        "np.mean(datanew)\n",
        "#https://www.statology.org/typeerror-cannot-perform-reduce-with-flexible-type/"
      ]
    },
    {
      "cell_type": "code",
      "execution_count": 325,
      "metadata": {
        "colab": {
          "base_uri": "https://localhost:8080/"
        },
        "id": "hC4NlMd3QGnQ",
        "outputId": "649f4e07-82cc-4d98-d50e-61556acb1e4e"
      },
      "outputs": [
        {
          "name": "stdout",
          "output_type": "stream",
          "text": [
            "<class 'numpy.int32'>\n",
            "<class 'numpy.float64'>\n",
            "0 non-float data points in fxtrain\n",
            "(324,)\n",
            "0 failed predictions in fxtrain\n",
            "<class 'numpy.ndarray'>\n",
            "[1. 0. 0. 0. 0. 0. 0. 0. 0. 0. 0. 0. 0. 0. 0. 0. 0. 0. 0. 0. 0. 0. 0. 0.\n",
            " 0. 0. 0. 0. 0. 0. 0. 0. 0. 0. 0. 0. 0. 0. 0. 0. 0. 0. 0. 0. 0. 0. 0. 0.\n",
            " 0. 0. 0. 0. 0. 0. 0. 0. 0. 0. 0. 0. 0. 0. 0. 0. 0. 0. 0. 0. 0. 0. 0. 0.\n",
            " 0. 0. 0. 0. 0. 0. 0. 0. 0. 0. 0. 0. 0. 0. 0. 0. 0. 0. 0. 0. 0. 0. 0. 0.\n",
            " 0. 0. 0. 0. 0. 0. 0. 0. 0. 0. 0. 0. 0. 0. 0. 0. 0. 0. 0. 0. 0. 0. 0. 0.\n",
            " 0. 0. 0. 0. 0. 0. 0. 0. 0. 0. 0. 0. 0. 0. 0. 0. 0. 0. 0. 0. 0. 0. 0. 0.\n",
            " 0. 0. 0. 0. 0. 0. 0. 0. 0. 0. 0. 0. 0. 0. 0. 0. 0. 0. 0. 0. 0. 0. 0. 0.\n",
            " 0. 0. 0. 0. 0. 0. 0. 0. 0. 0. 0. 0. 0. 0. 0. 0. 0. 0. 0. 0. 0. 0. 0. 0.\n",
            " 0. 0. 0. 0. 0. 0. 0. 0. 0. 0. 0. 0. 0. 0. 0. 0. 0. 0. 0. 0. 0. 0. 0. 0.\n",
            " 0. 0. 0. 0. 0. 0. 0. 0. 0. 0. 0. 0. 0. 0. 0. 0. 0. 0. 0. 0. 0. 0. 0. 0.\n",
            " 0. 0. 0. 0. 0. 0. 0. 0. 0. 0. 0. 0. 0. 0. 0. 0. 0. 0. 0. 0. 0. 0. 0. 0.\n",
            " 0. 0. 0. 0. 0. 0. 0. 0. 0. 0. 0. 0. 0. 0. 0. 0. 0. 0. 0. 0. 0. 0. 0. 0.\n",
            " 0. 0. 0. 0. 0. 0. 0. 0. 0. 0. 0. 0. 0. 0. 0. 0. 0. 0. 0. 0. 0. 0. 0. 0.\n",
            " 0. 0. 0. 0. 0. 0. 0. 0. 0. 0. 0. 0.]\n"
          ]
        }
      ],
      "source": [
        "\n",
        "print(type(npxtrain[207][10]))\n",
        "\n",
        "print(type(fxtrain[207][10]))\n",
        "for x in range(len(npxtrain)):\n",
        "  for y in range(324):\n",
        "    fxtrain[x][y] = int(npxtrain[x][y])\n",
        "p = 0\n",
        "for x in range(len(fxtrain)):\n",
        "  for y in range(324):\n",
        "    if np.issubdtype(fxtrain[x][y].dtype, float) != True:\n",
        "      p+=1\n",
        "print(p,\"non-float data points in fxtrain\")\n",
        "print(npxtrain[5].shape)\n",
        "#old code\n",
        "\"\"\"testvalue = npxtrain[5]\n",
        "testvalue = list(testvalue.reshape(1,-1))\n",
        "print(testvalue)\n",
        "knn.predict(testvalue)\"\"\"\n",
        "a = 0\n",
        "#tries to predict the outcome of every single piece of data in the dataset, which all of them throw errors\n",
        "\"\"\"for ele in fxtrain:\n",
        "    try:\n",
        "        knn.predict(list(ele.reshape(1,-1)))\n",
        "    except:\n",
        "        a+=1\"\"\"\n",
        "print(a, \"failed predictions in fxtrain\")\n",
        "print(type(npxtrain))\n",
        "fxtrain = npxtrain.astype(float)\n",
        "\"\"\"for ele in fxtrain[0]:\n",
        "  print(type(ele))\"\"\"\n",
        "print(fxtrain[0])\n",
        "preds = knn.predict(fxtrain[0].reshape(1,-1))"
      ]
    },
    {
      "cell_type": "code",
      "execution_count": 339,
      "metadata": {},
      "outputs": [
        {
          "name": "stdout",
          "output_type": "stream",
          "text": [
            "[[0.0, 1.0, 0.0, 0.0, 0.0, 5.0, 0.0, 0.0, 0.0, 9.0, 0.0, 0.0, 0.0, 0.0, 0.0, 0.0, 0.0, 0.0, 18.0, 0.0, 20.0, 0.0, 0.0, 0.0, 0.0, 0.0]]\n",
            "[[12398.0]]\n"
          ]
        }
      ],
      "source": [
        "def format_predictions(predictions, intent):\n",
        "    formatted_predictions = []\n",
        "    for x in range(len(predictions)):\n",
        "        if intent == \"fresh\":\n",
        "            formatted_predictions.append(list(predictions[x][:26]))\n",
        "        if intent == \"list\":\n",
        "            \n",
        "            formatted_predictions.append([predictions[x][-2]])\n",
        "    return formatted_predictions\n",
        "fresh_prediction = format_predictions(preds, \"fresh\")\n",
        "list_prediction = format_predictions(preds,\"list\")\n",
        "print(fresh_prediction)\n",
        "print(list_prediction)"
      ]
    },
    {
      "cell_type": "code",
      "execution_count": 327,
      "metadata": {},
      "outputs": [
        {
          "name": "stdout",
          "output_type": "stream",
          "text": [
            "['aeirt']\n"
          ]
        }
      ],
      "source": [
        "def denumericalize(predictions):\n",
        "    letkey = [\"\",\"a\",\"b\",\"c\",\"d\",\"e\",\"f\",\"g\",\"h\",\"i\",\"j\",\"k\",\"l\",\"m\",\"n\",\"o\",\"p\",\"q\",\"r\",\"s\",\"t\",\"u\",\"v\",\"w\",\"x\",\"y\",\"z\"]\n",
        "    word = \"\"\n",
        "    wordlist = []\n",
        "    for x in range(len(predictions)):\n",
        "        for y in range(len(predictions[x])):\n",
        "            word+=letkey[int(predictions[x][y])]\n",
        "        wordlist.append(word)\n",
        "    return wordlist\n",
        "predicted_words = denumericalize(fresh_prediction)\n",
        "print(predicted_words)"
      ]
    },
    {
      "cell_type": "code",
      "execution_count": 328,
      "metadata": {},
      "outputs": [
        {
          "name": "stdout",
          "output_type": "stream",
          "text": [
            "['iotas']\n"
          ]
        }
      ],
      "source": [
        "def search_word(listpreds):\n",
        "    finallist = []\n",
        "    with open(\"possibleguesses.txt\") as pguesses:\n",
        "        lines = pguesses.readlines()\n",
        "    for x in range(len(listpreds)):\n",
        "        finallist.append(lines[int(listpreds[x][0])-1])\n",
        "    for x in range(len(finallist)):\n",
        "        finallist[x] = finallist[x].replace(\"\\n\",\"\")\n",
        "    return(finallist)\n",
        "searched_predictions = search_word(list_prediction)\n",
        "print(searched_predictions)"
      ]
    },
    {
      "cell_type": "code",
      "execution_count": 329,
      "metadata": {},
      "outputs": [],
      "source": [
        "from colorama import init\n",
        "init()\n",
        "import random\n",
        "from turtle import pos\n",
        "import time\n",
        "#colored text\n",
        "from termcolor import colored\n",
        "#opens the list of possible wordle words\n",
        "with open(\"incomplete.txt\",\"r\") as f:\n",
        "    lines = f.readlines()\n",
        "\n",
        "#picks a random word and cleans it up\n",
        "line = random.randint(0,len(lines))\n",
        "#print (line)\n",
        "word = lines[line]\n",
        "word = word[:5]\n",
        "p = open(\"possibleguesses.txt\",\"r\")\n",
        "possibleguesses = p.readlines()\n",
        "for ind in range(len(possibleguesses)):\n",
        "    possibleguesses[ind] = possibleguesses[ind].replace(\"\\n\",\"\")"
      ]
    },
    {
      "cell_type": "code",
      "execution_count": 342,
      "metadata": {},
      "outputs": [],
      "source": [
        "classifier_model = KNeighborsClassifier(n_neighbors=9)\n"
      ]
    },
    {
      "cell_type": "code",
      "execution_count": null,
      "metadata": {},
      "outputs": [],
      "source": []
    },
    {
      "cell_type": "code",
      "execution_count": null,
      "metadata": {},
      "outputs": [],
      "source": [
        "guessed = False\n",
        "#picks a random word and cleans it up\n",
        "line = random.randint(0,len(lines))\n",
        "#print (line)\n",
        "word = lines[line]\n",
        "word = word[:5]\n",
        "\n",
        "word = word.lower()\n",
        "print(word)\n",
        "guessnumber = 1\n",
        "#A string of all guessed letters\n",
        "guessedletters = \"\"\n",
        "previousguesses = []\n",
        "def clean(gnum,gletters,g1,g2,g3,g4,g5,y1,y2,y3,y4,y5,g,gindex,correct):\n",
        "    final = []\n",
        "    finaly = []\n",
        "    final+=[int(gnum)]+[0]*26\n",
        "    if gletters == None:\n",
        "        final+=[0]*27\n",
        "    else:\n",
        "        final+=numericalize(gletters)\n",
        "    if g1 == None:\n",
        "        final+=[0]*27\n",
        "    else:\n",
        "        final+=numericalize(g1)\n",
        "    if g2 == None:\n",
        "        final+=[0]*27\n",
        "    else:\n",
        "        final+=numericalize(g2)\n",
        "    if g3 == None:\n",
        "        final+=[0]*27\n",
        "    else:\n",
        "        final+=numericalize(g3)\n",
        "    if g4 == None:\n",
        "        final+=[0]*27\n",
        "    else:\n",
        "        final+=numericalize(g4)\n",
        "    if g5 == None:\n",
        "        final+=[0]*27\n",
        "    else:\n",
        "        final+=numericalize(g5)\n",
        "\n",
        "    if y1 == None:\n",
        "        final+=[0]*27\n",
        "    else:\n",
        "        final+=numericalize(y1)\n",
        "    if y2 == None:\n",
        "        final+=[0]*27\n",
        "    else:\n",
        "        final+=numericalize(y2)\n",
        "    if y3 == None:\n",
        "        final+=[0]*27\n",
        "    else:\n",
        "        final+=numericalize(y3)\n",
        "    if y4 == None:\n",
        "        final+=[0]*27\n",
        "    else:\n",
        "        final+=numericalize(y4)\n",
        "    if y5 == None:\n",
        "        final+=[0]*27\n",
        "    else:\n",
        "        final+=numericalize(y5)\n",
        "    final = np.array(final)\n",
        "    final = final.astype(float)\n",
        "    final = final.reshape(1,-1)\n",
        "    return final\n",
        "    \"\"\"global possibleguesses\n",
        "    finaly+=numericalize(g)\n",
        "    finaly+=possibleguesses.index(g.lower())\n",
        "    finaly+=correct\"\"\"\n",
        "#stores the colors for each letter to be printed\n",
        "greenletters = [None,None,None,None,None]\n",
        "yellowletters = [None,None,None,None,None]\n",
        "letcolors = [None,None,None,None,None]\n",
        "cleanedguess1 = clean(1,None,None,None,None,None,None,None,None,None,None,None,None,None,None)\n",
        "guess = knn.predict(cleanedguess1)\n",
        "guess = search_word(format_predictions(guess,\"list\"))\n",
        "guess = guess[0]\n",
        "unique = True\n",
        "print(guess)\n",
        "while guessed != True:\n",
        "    letcolors = [None,None,None,None,None]\n",
        "    if guess == word.lower():\n",
        "        print(\"yay\")\n",
        "        letcolors = [\"green\" for x in letcolors]\n",
        "        guessed = True\n",
        "        break\n",
        "    else:\n",
        "        #goes through each letter of the guess and sees if its a match, if the letter is in the word, or its neither\n",
        "        for place in range(5):\n",
        "            #checks for a letter match\n",
        "            if guess[place] == word[place]:\n",
        "                #stores the matched letter to the corresponding place in greenletters\n",
        "                greenletters[place] = word[place]\n",
        "                #says that that letters color should be green when printed\n",
        "                letcolors[place] = \"green\"\n",
        "            #checks if letter is in the word\n",
        "            elif guess[place] in word:\n",
        "                #stores the matched letter to the corresponding place in green letters:\n",
        "                if yellowletters[place] != None and guess[place] not in yellowletters[place]:\n",
        "                    yellowletters[place] += guess[place]\n",
        "                else:\n",
        "                    yellowletters[place] = guess[place]\n",
        "                #says that that letters color should be yellow when printed\n",
        "                letcolors[place] = \"yellow\"\n",
        "            else:\n",
        "                #says that that letter's color should be gray when printed\n",
        "                letcolors[place] = \"white\"\n",
        "    #prints each of the previous guesses and their colors\n",
        "    \"\"\"for g in previousguesses:\n",
        "        print(colored(g[0][0],g[1][0]),colored(g[0][1],g[1][1]),colored(g[0][2],g[1][2]),colored(g[0][3],g[1][3]),colored(g[0][4],g[1][4]))\n",
        "        print(g[1][0][0],g[1][1][0],g[1][2][0],g[1][3][0],g[1][4][0])\n",
        "    #prints the current guess and its colors\n",
        "    print(colored(guess[0],letcolors[0]),colored(guess[1],letcolors[1]),colored(guess[2],letcolors[2]),colored(guess[3],letcolors[3]),colored(guess[4],letcolors[4]))\n",
        "    print(letcolors[0][0],letcolors[1][0],letcolors[2][0],letcolors[3][0],letcolors[4][0])\n",
        "    print(\"-\"*10)\"\"\"\n",
        "    previousguesses.append([guess,letcolors])\n",
        "    #adds newly guessed letters to the total guessed letters\n",
        "    for let in guess:\n",
        "        if let not in guessedletters:\n",
        "            guessedletters+=let\n",
        "    cleanedguess1 = clean(guessnumber,guessedletters,str(greenletters[0]),str(greenletters[1]),str(greenletters[2]),str(greenletters[3]),str(greenletters[4]),str(yellowletters[0]),str(yellowletters[1]),str(yellowletters[2]),str(yellowletters[3]),str(yellowletters[4]),None,None,None)\n",
        "    #print(guessnumber,guessedletters,str(greenletters[0]),str(greenletters[1]),str(greenletters[2]),str(greenletters[3]),str(greenletters[4]),str(yellowletters[0]),str(yellowletters[1]),str(yellowletters[2]),str(yellowletters[3]),str(yellowletters[4]),None,None,None)\n",
        "    lastguess = guess\n",
        "    guess = knn.predict(cleanedguess1)\n",
        "    #print(format_predictions(guess,\"list\"))\n",
        "    guess = search_word(format_predictions(guess,\"list\"))\n",
        "    guess = guess[0]\n",
        "    \"\"\"if guess == lastguess:\n",
        "        unique = False\n",
        "    while unique == False:\n",
        "        guess = knn.predict(cleanedguess1)\n",
        "        #print(format_predictions(guess,\"list\"))\n",
        "        guess = search_word(format_predictions(guess,\"list\"))\n",
        "        guess = guess[0]\n",
        "        if guess != lastguess:\n",
        "            unique = True\n",
        "            break\n",
        "        guessnumber+=1\n",
        "        if guessnumber == 200:\n",
        "            print(previousguesses,greenletters,yellowletters)\n",
        "            break\"\"\"\n",
        "    guessnumber+=1\n",
        "    \n",
        "    if guessnumber == 200:\n",
        "        print(previousguesses,greenletters,yellowletters)\n",
        "        break\n",
        "print(guessnumber)\n",
        "\n",
        "\n",
        "    \n",
        "        "
      ]
    },
    {
      "cell_type": "code",
      "execution_count": 343,
      "metadata": {},
      "outputs": [
        {
          "name": "stdout",
          "output_type": "stream",
          "text": [
            "entry\n"
          ]
        },
        {
          "ename": "NotFittedError",
          "evalue": "This KNeighborsClassifier instance is not fitted yet. Call 'fit' with appropriate arguments before using this estimator.",
          "output_type": "error",
          "traceback": [
            "\u001b[1;31m---------------------------------------------------------------------------\u001b[0m",
            "\u001b[1;31mNotFittedError\u001b[0m                            Traceback (most recent call last)",
            "\u001b[1;32m<ipython-input-343-1b1dbecd75aa>\u001b[0m in \u001b[0;36m<module>\u001b[1;34m\u001b[0m\n\u001b[0;32m     74\u001b[0m \u001b[0mletcolors\u001b[0m \u001b[1;33m=\u001b[0m \u001b[1;33m[\u001b[0m\u001b[1;32mNone\u001b[0m\u001b[1;33m,\u001b[0m\u001b[1;32mNone\u001b[0m\u001b[1;33m,\u001b[0m\u001b[1;32mNone\u001b[0m\u001b[1;33m,\u001b[0m\u001b[1;32mNone\u001b[0m\u001b[1;33m,\u001b[0m\u001b[1;32mNone\u001b[0m\u001b[1;33m]\u001b[0m\u001b[1;33m\u001b[0m\u001b[1;33m\u001b[0m\u001b[0m\n\u001b[0;32m     75\u001b[0m \u001b[0mcleanedguess1\u001b[0m \u001b[1;33m=\u001b[0m \u001b[0mclean\u001b[0m\u001b[1;33m(\u001b[0m\u001b[1;36m1\u001b[0m\u001b[1;33m,\u001b[0m\u001b[1;32mNone\u001b[0m\u001b[1;33m,\u001b[0m\u001b[1;32mNone\u001b[0m\u001b[1;33m,\u001b[0m\u001b[1;32mNone\u001b[0m\u001b[1;33m,\u001b[0m\u001b[1;32mNone\u001b[0m\u001b[1;33m,\u001b[0m\u001b[1;32mNone\u001b[0m\u001b[1;33m,\u001b[0m\u001b[1;32mNone\u001b[0m\u001b[1;33m,\u001b[0m\u001b[1;32mNone\u001b[0m\u001b[1;33m,\u001b[0m\u001b[1;32mNone\u001b[0m\u001b[1;33m,\u001b[0m\u001b[1;32mNone\u001b[0m\u001b[1;33m,\u001b[0m\u001b[1;32mNone\u001b[0m\u001b[1;33m,\u001b[0m\u001b[1;32mNone\u001b[0m\u001b[1;33m,\u001b[0m\u001b[1;32mNone\u001b[0m\u001b[1;33m,\u001b[0m\u001b[1;32mNone\u001b[0m\u001b[1;33m,\u001b[0m\u001b[1;32mNone\u001b[0m\u001b[1;33m)\u001b[0m\u001b[1;33m\u001b[0m\u001b[1;33m\u001b[0m\u001b[0m\n\u001b[1;32m---> 76\u001b[1;33m \u001b[0mguess\u001b[0m \u001b[1;33m=\u001b[0m \u001b[0mclassifier_model\u001b[0m\u001b[1;33m.\u001b[0m\u001b[0mpredict\u001b[0m\u001b[1;33m(\u001b[0m\u001b[0mcleanedguess1\u001b[0m\u001b[1;33m)\u001b[0m\u001b[1;33m\u001b[0m\u001b[1;33m\u001b[0m\u001b[0m\n\u001b[0m\u001b[0;32m     77\u001b[0m \u001b[0mguess\u001b[0m \u001b[1;33m=\u001b[0m \u001b[0msearch_word\u001b[0m\u001b[1;33m(\u001b[0m\u001b[0mformat_predictions\u001b[0m\u001b[1;33m(\u001b[0m\u001b[0mguess\u001b[0m\u001b[1;33m,\u001b[0m\u001b[1;34m\"list\"\u001b[0m\u001b[1;33m)\u001b[0m\u001b[1;33m)\u001b[0m\u001b[1;33m\u001b[0m\u001b[1;33m\u001b[0m\u001b[0m\n\u001b[0;32m     78\u001b[0m \u001b[0mguess\u001b[0m \u001b[1;33m=\u001b[0m \u001b[0mguess\u001b[0m\u001b[1;33m[\u001b[0m\u001b[1;36m0\u001b[0m\u001b[1;33m]\u001b[0m\u001b[1;33m\u001b[0m\u001b[1;33m\u001b[0m\u001b[0m\n",
            "\u001b[1;32mc:\\Users\\Gamer\\anaconda3\\lib\\site-packages\\sklearn\\neighbors\\_classification.py\u001b[0m in \u001b[0;36mpredict\u001b[1;34m(self, X)\u001b[0m\n\u001b[0;32m    173\u001b[0m         \u001b[0mX\u001b[0m \u001b[1;33m=\u001b[0m \u001b[0mcheck_array\u001b[0m\u001b[1;33m(\u001b[0m\u001b[0mX\u001b[0m\u001b[1;33m,\u001b[0m \u001b[0maccept_sparse\u001b[0m\u001b[1;33m=\u001b[0m\u001b[1;34m'csr'\u001b[0m\u001b[1;33m)\u001b[0m\u001b[1;33m\u001b[0m\u001b[1;33m\u001b[0m\u001b[0m\n\u001b[0;32m    174\u001b[0m \u001b[1;33m\u001b[0m\u001b[0m\n\u001b[1;32m--> 175\u001b[1;33m         \u001b[0mneigh_dist\u001b[0m\u001b[1;33m,\u001b[0m \u001b[0mneigh_ind\u001b[0m \u001b[1;33m=\u001b[0m \u001b[0mself\u001b[0m\u001b[1;33m.\u001b[0m\u001b[0mkneighbors\u001b[0m\u001b[1;33m(\u001b[0m\u001b[0mX\u001b[0m\u001b[1;33m)\u001b[0m\u001b[1;33m\u001b[0m\u001b[1;33m\u001b[0m\u001b[0m\n\u001b[0m\u001b[0;32m    176\u001b[0m         \u001b[0mclasses_\u001b[0m \u001b[1;33m=\u001b[0m \u001b[0mself\u001b[0m\u001b[1;33m.\u001b[0m\u001b[0mclasses_\u001b[0m\u001b[1;33m\u001b[0m\u001b[1;33m\u001b[0m\u001b[0m\n\u001b[0;32m    177\u001b[0m         \u001b[0m_y\u001b[0m \u001b[1;33m=\u001b[0m \u001b[0mself\u001b[0m\u001b[1;33m.\u001b[0m\u001b[0m_y\u001b[0m\u001b[1;33m\u001b[0m\u001b[1;33m\u001b[0m\u001b[0m\n",
            "\u001b[1;32mc:\\Users\\Gamer\\anaconda3\\lib\\site-packages\\sklearn\\neighbors\\_base.py\u001b[0m in \u001b[0;36mkneighbors\u001b[1;34m(self, X, n_neighbors, return_distance)\u001b[0m\n\u001b[0;32m    583\u001b[0m \u001b[1;33m\u001b[0m\u001b[0m\n\u001b[0;32m    584\u001b[0m         \"\"\"\n\u001b[1;32m--> 585\u001b[1;33m         \u001b[0mcheck_is_fitted\u001b[0m\u001b[1;33m(\u001b[0m\u001b[0mself\u001b[0m\u001b[1;33m)\u001b[0m\u001b[1;33m\u001b[0m\u001b[1;33m\u001b[0m\u001b[0m\n\u001b[0m\u001b[0;32m    586\u001b[0m \u001b[1;33m\u001b[0m\u001b[0m\n\u001b[0;32m    587\u001b[0m         \u001b[1;32mif\u001b[0m \u001b[0mn_neighbors\u001b[0m \u001b[1;32mis\u001b[0m \u001b[1;32mNone\u001b[0m\u001b[1;33m:\u001b[0m\u001b[1;33m\u001b[0m\u001b[1;33m\u001b[0m\u001b[0m\n",
            "\u001b[1;32mc:\\Users\\Gamer\\anaconda3\\lib\\site-packages\\sklearn\\utils\\validation.py\u001b[0m in \u001b[0;36minner_f\u001b[1;34m(*args, **kwargs)\u001b[0m\n\u001b[0;32m     70\u001b[0m                           FutureWarning)\n\u001b[0;32m     71\u001b[0m         \u001b[0mkwargs\u001b[0m\u001b[1;33m.\u001b[0m\u001b[0mupdate\u001b[0m\u001b[1;33m(\u001b[0m\u001b[1;33m{\u001b[0m\u001b[0mk\u001b[0m\u001b[1;33m:\u001b[0m \u001b[0marg\u001b[0m \u001b[1;32mfor\u001b[0m \u001b[0mk\u001b[0m\u001b[1;33m,\u001b[0m \u001b[0marg\u001b[0m \u001b[1;32min\u001b[0m \u001b[0mzip\u001b[0m\u001b[1;33m(\u001b[0m\u001b[0msig\u001b[0m\u001b[1;33m.\u001b[0m\u001b[0mparameters\u001b[0m\u001b[1;33m,\u001b[0m \u001b[0margs\u001b[0m\u001b[1;33m)\u001b[0m\u001b[1;33m}\u001b[0m\u001b[1;33m)\u001b[0m\u001b[1;33m\u001b[0m\u001b[1;33m\u001b[0m\u001b[0m\n\u001b[1;32m---> 72\u001b[1;33m         \u001b[1;32mreturn\u001b[0m \u001b[0mf\u001b[0m\u001b[1;33m(\u001b[0m\u001b[1;33m**\u001b[0m\u001b[0mkwargs\u001b[0m\u001b[1;33m)\u001b[0m\u001b[1;33m\u001b[0m\u001b[1;33m\u001b[0m\u001b[0m\n\u001b[0m\u001b[0;32m     73\u001b[0m     \u001b[1;32mreturn\u001b[0m \u001b[0minner_f\u001b[0m\u001b[1;33m\u001b[0m\u001b[1;33m\u001b[0m\u001b[0m\n\u001b[0;32m     74\u001b[0m \u001b[1;33m\u001b[0m\u001b[0m\n",
            "\u001b[1;32mc:\\Users\\Gamer\\anaconda3\\lib\\site-packages\\sklearn\\utils\\validation.py\u001b[0m in \u001b[0;36mcheck_is_fitted\u001b[1;34m(estimator, attributes, msg, all_or_any)\u001b[0m\n\u001b[0;32m   1017\u001b[0m \u001b[1;33m\u001b[0m\u001b[0m\n\u001b[0;32m   1018\u001b[0m     \u001b[1;32mif\u001b[0m \u001b[1;32mnot\u001b[0m \u001b[0mattrs\u001b[0m\u001b[1;33m:\u001b[0m\u001b[1;33m\u001b[0m\u001b[1;33m\u001b[0m\u001b[0m\n\u001b[1;32m-> 1019\u001b[1;33m         \u001b[1;32mraise\u001b[0m \u001b[0mNotFittedError\u001b[0m\u001b[1;33m(\u001b[0m\u001b[0mmsg\u001b[0m \u001b[1;33m%\u001b[0m \u001b[1;33m{\u001b[0m\u001b[1;34m'name'\u001b[0m\u001b[1;33m:\u001b[0m \u001b[0mtype\u001b[0m\u001b[1;33m(\u001b[0m\u001b[0mestimator\u001b[0m\u001b[1;33m)\u001b[0m\u001b[1;33m.\u001b[0m\u001b[0m__name__\u001b[0m\u001b[1;33m}\u001b[0m\u001b[1;33m)\u001b[0m\u001b[1;33m\u001b[0m\u001b[1;33m\u001b[0m\u001b[0m\n\u001b[0m\u001b[0;32m   1020\u001b[0m \u001b[1;33m\u001b[0m\u001b[0m\n\u001b[0;32m   1021\u001b[0m \u001b[1;33m\u001b[0m\u001b[0m\n",
            "\u001b[1;31mNotFittedError\u001b[0m: This KNeighborsClassifier instance is not fitted yet. Call 'fit' with appropriate arguments before using this estimator."
          ]
        }
      ],
      "source": [
        "guessed = False\n",
        "#picks a random word and cleans it up\n",
        "line = random.randint(0,len(lines))\n",
        "#print (line)\n",
        "word = lines[line]\n",
        "word = word[:5]\n",
        "\n",
        "word = word.lower()\n",
        "print(word)\n",
        "guessnumber = 1\n",
        "#A string of all guessed letters\n",
        "guessedletters = \"\"\n",
        "previousguesses = []\n",
        "def clean(gnum,gletters,g1,g2,g3,g4,g5,y1,y2,y3,y4,y5,g,gindex,correct):\n",
        "    final = []\n",
        "    finaly = []\n",
        "    final+=[int(gnum)]+[0]*26\n",
        "    if gletters == None:\n",
        "        final+=[0]*27\n",
        "    else:\n",
        "        final+=numericalize(gletters)\n",
        "    if g1 == None:\n",
        "        final+=[0]*27\n",
        "    else:\n",
        "        final+=numericalize(g1)\n",
        "    if g2 == None:\n",
        "        final+=[0]*27\n",
        "    else:\n",
        "        final+=numericalize(g2)\n",
        "    if g3 == None:\n",
        "        final+=[0]*27\n",
        "    else:\n",
        "        final+=numericalize(g3)\n",
        "    if g4 == None:\n",
        "        final+=[0]*27\n",
        "    else:\n",
        "        final+=numericalize(g4)\n",
        "    if g5 == None:\n",
        "        final+=[0]*27\n",
        "    else:\n",
        "        final+=numericalize(g5)\n",
        "\n",
        "    if y1 == None:\n",
        "        final+=[0]*27\n",
        "    else:\n",
        "        final+=numericalize(y1)\n",
        "    if y2 == None:\n",
        "        final+=[0]*27\n",
        "    else:\n",
        "        final+=numericalize(y2)\n",
        "    if y3 == None:\n",
        "        final+=[0]*27\n",
        "    else:\n",
        "        final+=numericalize(y3)\n",
        "    if y4 == None:\n",
        "        final+=[0]*27\n",
        "    else:\n",
        "        final+=numericalize(y4)\n",
        "    if y5 == None:\n",
        "        final+=[0]*27\n",
        "    else:\n",
        "        final+=numericalize(y5)\n",
        "    final = np.array(final)\n",
        "    final = final.astype(float)\n",
        "    final = final.reshape(1,-1)\n",
        "    return final\n",
        "    \"\"\"global possibleguesses\n",
        "    finaly+=numericalize(g)\n",
        "    finaly+=possibleguesses.index(g.lower())\n",
        "    finaly+=correct\"\"\"\n",
        "#stores the colors for each letter to be printed\n",
        "greenletters = [None,None,None,None,None]\n",
        "yellowletters = [None,None,None,None,None]\n",
        "letcolors = [None,None,None,None,None]\n",
        "cleanedguess1 = clean(1,None,None,None,None,None,None,None,None,None,None,None,None,None,None)\n",
        "guess = classifier_model.predict(cleanedguess1)\n",
        "guess = search_word(format_predictions(guess,\"list\"))\n",
        "guess = guess[0]\n",
        "unique = True\n",
        "print(guess)\n",
        "while guessed != True:\n",
        "    letcolors = [None,None,None,None,None]\n",
        "    if guess == word.lower():\n",
        "        print(\"yay\")\n",
        "        letcolors = [\"green\" for x in letcolors]\n",
        "        guessed = True\n",
        "        break\n",
        "    else:\n",
        "        #goes through each letter of the guess and sees if its a match, if the letter is in the word, or its neither\n",
        "        for place in range(5):\n",
        "            #checks for a letter match\n",
        "            if guess[place] == word[place]:\n",
        "                #stores the matched letter to the corresponding place in greenletters\n",
        "                greenletters[place] = word[place]\n",
        "                #says that that letters color should be green when printed\n",
        "                letcolors[place] = \"green\"\n",
        "            #checks if letter is in the word\n",
        "            elif guess[place] in word:\n",
        "                #stores the matched letter to the corresponding place in green letters:\n",
        "                if yellowletters[place] != None and guess[place] not in yellowletters[place]:\n",
        "                    yellowletters[place] += guess[place]\n",
        "                else:\n",
        "                    yellowletters[place] = guess[place]\n",
        "                #says that that letters color should be yellow when printed\n",
        "                letcolors[place] = \"yellow\"\n",
        "            else:\n",
        "                #says that that letter's color should be gray when printed\n",
        "                letcolors[place] = \"white\"\n",
        "    #prints each of the previous guesses and their colors\n",
        "    \"\"\"for g in previousguesses:\n",
        "        print(colored(g[0][0],g[1][0]),colored(g[0][1],g[1][1]),colored(g[0][2],g[1][2]),colored(g[0][3],g[1][3]),colored(g[0][4],g[1][4]))\n",
        "        print(g[1][0][0],g[1][1][0],g[1][2][0],g[1][3][0],g[1][4][0])\n",
        "    #prints the current guess and its colors\n",
        "    print(colored(guess[0],letcolors[0]),colored(guess[1],letcolors[1]),colored(guess[2],letcolors[2]),colored(guess[3],letcolors[3]),colored(guess[4],letcolors[4]))\n",
        "    print(letcolors[0][0],letcolors[1][0],letcolors[2][0],letcolors[3][0],letcolors[4][0])\n",
        "    print(\"-\"*10)\"\"\"\n",
        "    previousguesses.append([guess,letcolors])\n",
        "    #adds newly guessed letters to the total guessed letters\n",
        "    for let in guess:\n",
        "        if let not in guessedletters:\n",
        "            guessedletters+=let\n",
        "    cleanedguess1 = clean(guessnumber,guessedletters,str(greenletters[0]),str(greenletters[1]),str(greenletters[2]),str(greenletters[3]),str(greenletters[4]),str(yellowletters[0]),str(yellowletters[1]),str(yellowletters[2]),str(yellowletters[3]),str(yellowletters[4]),None,None,None)\n",
        "    #print(guessnumber,guessedletters,str(greenletters[0]),str(greenletters[1]),str(greenletters[2]),str(greenletters[3]),str(greenletters[4]),str(yellowletters[0]),str(yellowletters[1]),str(yellowletters[2]),str(yellowletters[3]),str(yellowletters[4]),None,None,None)\n",
        "    lastguess = guess\n",
        "    guess = classifier_model.predict(cleanedguess1)\n",
        "    #print(format_predictions(guess,\"list\"))\n",
        "    guess = search_word(format_predictions(guess,\"list\"))\n",
        "    guess = guess[0]\n",
        "    \"\"\"if guess == lastguess:\n",
        "        unique = False\n",
        "    while unique == False:\n",
        "        guess = knn.predict(cleanedguess1)\n",
        "        #print(format_predictions(guess,\"list\"))\n",
        "        guess = search_word(format_predictions(guess,\"list\"))\n",
        "        guess = guess[0]\n",
        "        if guess != lastguess:\n",
        "            unique = True\n",
        "            break\n",
        "        guessnumber+=1\n",
        "        if guessnumber == 200:\n",
        "            print(previousguesses,greenletters,yellowletters)\n",
        "            break\"\"\"\n",
        "    guessnumber+=1\n",
        "    \n",
        "    if guessnumber == 200:\n",
        "        print(previousguesses,greenletters,yellowletters)\n",
        "        break\n",
        "print(guessnumber)\n",
        "\n",
        "\n",
        "    \n",
        "        "
      ]
    },
    {
      "attachments": {},
      "cell_type": "markdown",
      "metadata": {},
      "source": [
        "Kclassification instead of regression model"
      ]
    }
  ],
  "metadata": {
    "colab": {
      "provenance": []
    },
    "kernelspec": {
      "display_name": "base",
      "language": "python",
      "name": "python3"
    },
    "language_info": {
      "codemirror_mode": {
        "name": "ipython",
        "version": 3
      },
      "file_extension": ".py",
      "mimetype": "text/x-python",
      "name": "python",
      "nbconvert_exporter": "python",
      "pygments_lexer": "ipython3",
      "version": "3.8.5"
    },
    "orig_nbformat": 4,
    "vscode": {
      "interpreter": {
        "hash": "37fa83a94d701a151562ebbdb9be3785de780639a788d264f4ef77025d1fd793"
      }
    }
  },
  "nbformat": 4,
  "nbformat_minor": 0
}
